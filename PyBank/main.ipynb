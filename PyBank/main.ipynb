{
 "cells": [
  {
   "cell_type": "code",
   "execution_count": 1,
   "metadata": {},
   "outputs": [],
   "source": [
    "# Dependencies\n",
    "import os\n",
    "import csv"
   ]
  },
  {
   "cell_type": "code",
   "execution_count": 2,
   "metadata": {},
   "outputs": [],
   "source": [
    "csvpath = os.path.join(\"Resources\", \"budget_data.csv\")"
   ]
  },
  {
   "cell_type": "code",
   "execution_count": 3,
   "metadata": {},
   "outputs": [],
   "source": [
    "total_months = 0\n",
    "total = 0\n",
    "change = []\n",
    "avg_change = 0\n",
    "outlines = []\n",
    "max_change = 0\n",
    "min_change = 0\n",
    "max_found = False\n",
    "min_found = False\n",
    "max_month = 0\n",
    "min_month = 0\n",
    "\n",
    "# Calculate the total number of months by summing the number of rows\n",
    "with open(csvpath, newline=\"\") as csvfile:\n",
    "    csvreader = csv.reader(csvfile, delimiter=\",\")\n",
    "    csvheader = next(csvfile)\n",
    "    \n",
    "    for row in csvreader:\n",
    "        total_months = total_months + 1\n",
    "    \n",
    "    # Reset to begining of csv file\n",
    "    csvfile.seek(0)\n",
    "    csvheader = next(csvfile)\n",
    "    \n",
    "    # Calculate the total profit/losses over the entire period by creating a list of float values and summing the values\n",
    "    profit_loss = [int(cols[1]) for cols in csv.reader(csvfile, delimiter=\",\")]\n",
    "    total = sum(profit_loss)\n",
    "        \n",
    "    # Calculate the average change by iterating over the profit_loss list and making a new list with the calculated values\n",
    "    change = [profit_loss[i] - profit_loss[i-1] for i in range(1, len(profit_loss))]\n",
    "    \n",
    "    avg_change = sum(change)/len(change)\n",
    "    \n",
    "    # Calculate greatest increase in profits by taking a max of the avg_change list\n",
    "    max_change = max(change)\n",
    "    \n",
    "    # Calculate greatest decrease in profits by taking a min of the avg_change list\n",
    "    min_change = min(change)\n",
    "    \n",
    "    # Add 0 value at the begining of the list to make change the same length as the other lists\n",
    "    change = [0] + change\n",
    "\n",
    "    # Reset to begining of csv file\n",
    "    csvfile.seek(0)\n",
    "    csvheader = next(csvfile)\n",
    "    \n",
    "    out_lines = [row + [profit_loss[i]] + [change[i]] for i, row in enumerate(csvreader)]  \n",
    "    \n",
    "    for row in out_lines:\n",
    "        if row[3] == max_change:\n",
    "            max_month = row[0]\n",
    "            max_found = True\n",
    "            break\n",
    "        \n",
    "    for row in out_lines:\n",
    "        if row[3] == min_change:\n",
    "            min_month = row[0]\n",
    "            min_found = True\n",
    "            break"
   ]
  },
  {
   "cell_type": "code",
   "execution_count": 4,
   "metadata": {},
   "outputs": [
    {
     "name": "stdout",
     "output_type": "stream",
     "text": [
      "Financial Analysis\n",
      "----------------------------\n",
      "Total Months: 86\n",
      "Total: $38382578\n",
      "Average Change: $-2315.12\n",
      "Greatest Increase in Profits: Feb-2012 ($1926159)\n",
      "Greatest Decrease in Profits: Sep-2013 ($-2196167)\n"
     ]
    }
   ],
   "source": [
    "    print(\"\"\"Financial Analysis\n",
    "    ----------------------------\n",
    "    Total Months: {}\n",
    "    Total: ${}\n",
    "    Average Change: ${}\n",
    "    Greatest Increase in Profits: {} (${})\n",
    "    Greatest Decrease in Profits: {} (${})\"\"\"\n",
    "    .format(total_months, total, round(avg_change,2), max_month, max_change, min_month, min_change))"
   ]
  },
  {
   "cell_type": "code",
   "execution_count": 5,
   "metadata": {},
   "outputs": [],
   "source": [
    "output_path = os.path.join(\"new.csv\")\n",
    "\n",
    "with open(output_path, 'w', newline=\"\") as csvfile:\n",
    "    csvwriter = csv.writer(csvfile, delimiter=',')\n",
    "    csvwriter.writerow(['Financial Analysis'])\n",
    "    csvwriter.writerow(['----------------------------'])\n",
    "    csvwriter.writerow(['Total Months: ' + str(total_months)])\n",
    "    csvwriter.writerow(['Total: $' + str(total)])\n",
    "    csvwriter.writerow(['Average Change: $' + str(round(avg_change,2))])\n",
    "    csvwriter.writerow(['Greatest Increase in Profits: ' + max_month + ' ($' + str(max_change) + ')'])\n",
    "    csvwriter.writerow(['Greatest Decrease in Profits: ' + min_month + ' ($' + str(min_change) + ')'])"
   ]
  },
  {
   "cell_type": "code",
   "execution_count": null,
   "metadata": {},
   "outputs": [],
   "source": []
  }
 ],
 "metadata": {
  "kernelspec": {
   "display_name": "Conda [PythonData]",
   "language": "python",
   "name": "pythondata"
  },
  "language_info": {
   "codemirror_mode": {
    "name": "ipython",
    "version": 3
   },
   "file_extension": ".py",
   "mimetype": "text/x-python",
   "name": "python",
   "nbconvert_exporter": "python",
   "pygments_lexer": "ipython3",
   "version": "3.6.9"
  }
 },
 "nbformat": 4,
 "nbformat_minor": 2
}
