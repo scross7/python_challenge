{
 "cells": [
  {
   "cell_type": "code",
   "execution_count": 8,
   "metadata": {},
   "outputs": [],
   "source": [
    "# Dependencies\n",
    "import os\n",
    "import csv"
   ]
  },
  {
   "cell_type": "code",
   "execution_count": 9,
   "metadata": {},
   "outputs": [],
   "source": [
    "# The dataset is composed of three columns: `Voter ID`, `County`, and `Candidate`\n",
    "csvpath = os.path.join(\"Resources\", \"election_data.csv\")"
   ]
  },
  {
   "cell_type": "code",
   "execution_count": 10,
   "metadata": {},
   "outputs": [],
   "source": [
    "total_votes = 0\n",
    "candidate_list = [] # List of all candidate votes by candidate name\n",
    "counter = 0\n",
    "unique_cand_list = []\n",
    "candidate_votes = []\n",
    "combined_cand_info = []\n",
    "cand_perc = []\n",
    "winner_votes = 0\n",
    "winner_found = False\n",
    "winner = 0\n",
    "\n",
    "with open(csvpath, newline=\"\") as csvfile:\n",
    "    csvreader = csv.reader(csvfile, delimiter=\",\")\n",
    "    csvheader = next(csvfile)\n",
    "    \n",
    "    # The total number of votes cast\n",
    "    for row in csvreader:\n",
    "        total_votes += 1\n",
    "        \n",
    "    # Reset to begining of csv file\n",
    "    csvfile.seek(0)\n",
    "    csvheader = next(csvfile)\n",
    "    \n",
    "    # A complete list of candidates who received votes\n",
    "    candidate_list = [(cols[2]) for cols in csv.reader(csvfile, delimiter=\",\")]\n",
    "  \n",
    "    # The total number of votes each candidate won\n",
    "    from collections import Counter\n",
    "    counter = Counter(candidate_list)\n",
    "    candidate_votes = list(counter.values()) # [2218231, 704200, 492940, 105630]\n",
    "    unique_cand_list = list(counter.keys()) # ['Khan', 'Correy', 'Li', \"O'Tooley\"]\n",
    "\n",
    "    winner_votes = max(candidate_votes)\n",
    "    \n",
    "    # The percentage of votes each candidate won\n",
    "    for i in range(0, len(unique_cand_list)):\n",
    "        percentage = (candidate_votes[i] / total_votes) * 100 \n",
    "        percentage = int(round(percentage))\n",
    "        cand_perc.append(percentage)\n",
    "   \n",
    "    # The winner of the election based on popular vote\n",
    "    combined_cand_info = zip(unique_cand_list, candidate_votes, cand_perc)\n",
    "    combined_cand_info = list(combined_cand_info)\n",
    "    # [('Khan', 2218231, 63), ('Correy', 704200, 20), ('Li', 492940, 14), (\"O'Tooley\", 105630, 3)]\n",
    "\n",
    "    for row in combined_cand_info:\n",
    "        if row[1] == winner_votes:\n",
    "            winner = row[0]\n",
    "            winner_found = True\n",
    "            break"
   ]
  },
  {
   "cell_type": "code",
   "execution_count": 11,
   "metadata": {},
   "outputs": [
    {
     "name": "stdout",
     "output_type": "stream",
     "text": [
      "Election Results\n",
      "----------------------------\n",
      "Total Votes: 3521001\n",
      "----------------------------\n",
      "Khan: 63% (2218231)\n",
      "Correy: 20% (704200)\n",
      "Li: 14% (492940)\n",
      "O'Tooley: 3% (105630)\n",
      "----------------------------\n",
      "Winner: Khan\n",
      "----------------------------\n"
     ]
    }
   ],
   "source": [
    "    print(\"\"\"Election Results\n",
    "    ----------------------------\n",
    "    Total Votes: {}\n",
    "    ----------------------------\"\"\".format(total_votes))\n",
    "          \n",
    "    for i in range(0, len(unique_cand_list)):\n",
    "        print(\"\"\"{}: {}% ({})\"\"\".format(unique_cand_list[i], cand_perc[i], candidate_votes[i]))\n",
    "    \n",
    "    print(\"\"\"----------------------------\n",
    "    Winner: {}\n",
    "    ----------------------------\"\"\".format(winner))"
   ]
  },
  {
   "cell_type": "code",
   "execution_count": 12,
   "metadata": {},
   "outputs": [],
   "source": [
    "output_path = os.path.join(\"new.csv\")\n",
    "\n",
    "with open(output_path, 'w', newline=\"\") as csvfile:\n",
    "    csvwriter = csv.writer(csvfile, delimiter=',')\n",
    "    csvwriter.writerow(['Election Results'])\n",
    "    csvwriter.writerow(['----------------------------'])\n",
    "    csvwriter.writerow(['Total Votes: ' + str(total_votes)])\n",
    "    csvwriter.writerow(['----------------------------'])\n",
    "    for i in range(0, len(unique_cand_list)):\n",
    "        csvwriter.writerow([str(unique_cand_list[i]) + ': ' + str(cand_perc[i]) + '% (' + str(candidate_votes[i]) + ')'])\n",
    "    csvwriter.writerow(['----------------------------'])\n",
    "    csvwriter.writerow(['Winner: ' + str(winner)])\n",
    "    csvwriter.writerow(['----------------------------'])"
   ]
  },
  {
   "cell_type": "code",
   "execution_count": null,
   "metadata": {},
   "outputs": [],
   "source": []
  }
 ],
 "metadata": {
  "kernelspec": {
   "display_name": "Conda [PythonData]",
   "language": "python",
   "name": "pythondata"
  },
  "language_info": {
   "codemirror_mode": {
    "name": "ipython",
    "version": 3
   },
   "file_extension": ".py",
   "mimetype": "text/x-python",
   "name": "python",
   "nbconvert_exporter": "python",
   "pygments_lexer": "ipython3",
   "version": "3.6.9"
  }
 },
 "nbformat": 4,
 "nbformat_minor": 2
}
